{
  "nbformat": 4,
  "nbformat_minor": 0,
  "metadata": {
    "colab": {
      "provenance": []
    },
    "kernelspec": {
      "name": "python3",
      "display_name": "Python 3"
    },
    "language_info": {
      "name": "python"
    }
  },
  "cells": [
    {
      "cell_type": "code",
      "execution_count": 2,
      "metadata": {
        "colab": {
          "base_uri": "https://localhost:8080/"
        },
        "id": "5q7ME80XzayP",
        "outputId": "30fd733c-6a01-4714-fe4a-a412fee249ef"
      },
      "outputs": [
        {
          "output_type": "stream",
          "name": "stdout",
          "text": [
            "Requirement already satisfied: psutil in /usr/local/lib/python3.10/dist-packages (5.9.5)\n",
            "Requirement already satisfied: xgboost in /usr/local/lib/python3.10/dist-packages (2.1.1)\n",
            "Requirement already satisfied: cloudpickle in /usr/local/lib/python3.10/dist-packages (2.2.1)\n",
            "Requirement already satisfied: numpy in /usr/local/lib/python3.10/dist-packages (from xgboost) (1.26.4)\n",
            "Requirement already satisfied: nvidia-nccl-cu12 in /usr/local/lib/python3.10/dist-packages (from xgboost) (2.22.3)\n",
            "Requirement already satisfied: scipy in /usr/local/lib/python3.10/dist-packages (from xgboost) (1.13.1)\n"
          ]
        }
      ],
      "source": [
        "!pip3 install --user psutil xgboost cloudpickle"
      ]
    },
    {
      "cell_type": "code",
      "source": [
        "!pip3 install --user cython\n",
        "!sudo make cython3"
      ],
      "metadata": {
        "colab": {
          "base_uri": "https://localhost:8080/"
        },
        "id": "dze1w0JPzbvc",
        "outputId": "24b9466b-66b3-4566-ba20-1aff65a6cdc5"
      },
      "execution_count": 3,
      "outputs": [
        {
          "output_type": "stream",
          "name": "stdout",
          "text": [
            "Requirement already satisfied: cython in /usr/local/lib/python3.10/dist-packages (3.0.11)\n",
            "make: *** No rule to make target 'cython3'.  Stop.\n"
          ]
        }
      ]
    },
    {
      "cell_type": "code",
      "source": [
        "import logging\n",
        "import sys\n",
        "import numpy as np\n",
        "import tvm\n",
        "from tvm import te\n",
        "import tvm.testing\n",
        "\n",
        "from tvm import autotvm"
      ],
      "metadata": {
        "id": "sCMVuzTfzbx1"
      },
      "execution_count": 30,
      "outputs": []
    },
    {
      "cell_type": "code",
      "source": [
        "def matmul_basic(N, L, M, dtype):\n",
        "\n",
        "    A = te.placeholder((N, L), name=\"A\", dtype=dtype)\n",
        "    B = te.placeholder((L, M), name=\"B\", dtype=dtype)\n",
        "\n",
        "    k = te.reduce_axis((0, L), name=\"k\")\n",
        "    C = te.compute((N, M), lambda i, j: te.sum(A[i, k] * B[k, j], axis=k), name=\"C\")\n",
        "    s = te.create_schedule(C.op)\n",
        "\n",
        "    # schedule\n",
        "    y, x = s[C].op.axis\n",
        "    k = s[C].op.reduce_axis[0]\n",
        "\n",
        "    yo, yi = s[C].split(y, 8)\n",
        "    xo, xi = s[C].split(x, 8)\n",
        "\n",
        "    s[C].reorder(yo, xo, k, yi, xi)\n",
        "\n",
        "    return s, [A, B, C]"
      ],
      "metadata": {
        "id": "J0-B3P_eznn4"
      },
      "execution_count": 31,
      "outputs": []
    },
    {
      "cell_type": "code",
      "source": [
        "def matmul_v1(N, L, M, dtype):\n",
        "    A = te.placeholder((N, L), name=\"A\", dtype=dtype)\n",
        "    B = te.placeholder((L, M), name=\"B\", dtype=dtype)\n",
        "\n",
        "    k = te.reduce_axis((0, L), name=\"k\")\n",
        "    C = te.compute((N, M), lambda i, j: te.sum(A[i, k] * B[k, j], axis=k), name=\"C\")\n",
        "    s = te.create_schedule(C.op)\n",
        "\n",
        "    # schedule\n",
        "    y, x = s[C].op.axis\n",
        "    k = s[C].op.reduce_axis[0]\n",
        "\n",
        "    # 2. get the config object\n",
        "    cfg = autotvm.get_config()\n",
        "\n",
        "    # 3. define search space\n",
        "    cfg.define_knob(\"tile_y\", [1, 2, 4, 8, 16])\n",
        "    cfg.define_knob(\"tile_x\", [1, 2, 4, 8, 16])\n",
        "\n",
        "    # 4. schedule according to config\n",
        "    yo, yi = s[C].split(y, cfg[\"tile_y\"].val)\n",
        "    xo, xi = s[C].split(x, cfg[\"tile_x\"].val)\n",
        "\n",
        "    s[C].reorder(yo, xo, k, yi, xi)\n",
        "\n",
        "    return s, [A, B, C]"
      ],
      "metadata": {
        "id": "jxeeI4CQzbzG"
      },
      "execution_count": 34,
      "outputs": []
    },
    {
      "cell_type": "code",
      "source": [
        "def matmul(N, L, M, dtype):\n",
        "    A = te.placeholder((N, L), name=\"A\", dtype=dtype)\n",
        "    B = te.placeholder((L, M), name=\"B\", dtype=dtype)\n",
        "\n",
        "    k = te.reduce_axis((0, L), name=\"k\")\n",
        "    C = te.compute((N, M), lambda i, j: te.sum(A[i, k] * B[k, j], axis=k), name=\"C\")\n",
        "    s = te.create_schedule(C.op)\n",
        "\n",
        "    # schedule\n",
        "    y, x = s[C].op.axis\n",
        "    k = s[C].op.reduce_axis[0]\n",
        "\n",
        "    ##### define space begin #####\n",
        "    cfg = autotvm.get_config()\n",
        "    cfg.define_split(\"tile_y\", y, num_outputs=2)\n",
        "    cfg.define_split(\"tile_x\", x, num_outputs=2)\n",
        "    ##### define space end #####\n",
        "\n",
        "    # schedule according to config\n",
        "    yo, yi = cfg[\"tile_y\"].apply(s, C, y)\n",
        "    xo, xi = cfg[\"tile_x\"].apply(s, C, x)\n",
        "\n",
        "    s[C].reorder(yo, xo, k, yi, xi)\n",
        "\n",
        "    return s, [A, B, C]"
      ],
      "metadata": {
        "id": "u81inx88zb0H"
      },
      "execution_count": 35,
      "outputs": []
    },
    {
      "cell_type": "code",
      "source": [
        "N, L, M = 512, 512, 512\n",
        "task = autotvm.task.create(\"tutorial/matmul\", args=(N, L, M, \"float32\"), target=\"llvm\")\n",
        "print(task.config_space)"
      ],
      "metadata": {
        "colab": {
          "base_uri": "https://localhost:8080/"
        },
        "id": "vmokMvONzb5Q",
        "outputId": "7cb4d8cc-e063-4917-fb97-fed8fa7f14cc"
      },
      "execution_count": 36,
      "outputs": [
        {
          "output_type": "stream",
          "name": "stdout",
          "text": [
            "ConfigSpace (len=100, range_length=100, space_map=\n",
            "   0 tile_y: Split(policy=factors, product=512, num_outputs=2) len=10\n",
            "   1 tile_x: Split(policy=factors, product=512, num_outputs=2) len=10\n",
            ")\n"
          ]
        }
      ]
    },
    {
      "cell_type": "code",
      "source": [
        "# logging config (for printing tuning log to the screen)\n",
        "logging.getLogger(\"autotvm\").setLevel(logging.DEBUG)\n",
        "logging.getLogger(\"autotvm\").addHandler(logging.StreamHandler(sys.stdout))"
      ],
      "metadata": {
        "id": "1ULqDBSCzb90"
      },
      "execution_count": 37,
      "outputs": []
    },
    {
      "cell_type": "code",
      "source": [
        "measure_option = autotvm.measure_option(builder=\"local\", runner=autotvm.LocalRunner(number=5))\n",
        "\n",
        "# Begin tuning with RandomTuner, log records to file `matmul.log`\n",
        "# You can use alternatives like XGBTuner.\n",
        "tuner = autotvm.tuner.RandomTuner(task)\n",
        "tuner.tune(\n",
        "    n_trial=10,\n",
        "    measure_option=measure_option,\n",
        "    callbacks=[autotvm.callback.log_to_file(\"matmul.log\")],\n",
        ")"
      ],
      "metadata": {
        "colab": {
          "base_uri": "https://localhost:8080/"
        },
        "id": "NBUDIFzdzcHN",
        "outputId": "85849763-00b9-4d24-a901-d6f5c626ec7e"
      },
      "execution_count": 41,
      "outputs": [
        {
          "output_type": "stream",
          "name": "stdout",
          "text": [
            "waiting for device...\n",
            "waiting for device...\n",
            "waiting for device...\n",
            "waiting for device...\n",
            "waiting for device...\n"
          ]
        },
        {
          "output_type": "stream",
          "name": "stderr",
          "text": [
            "DEBUG:autotvm:waiting for device...\n"
          ]
        },
        {
          "output_type": "stream",
          "name": "stdout",
          "text": [
            "device available\n",
            "device available\n",
            "device available\n",
            "device available\n",
            "device available\n"
          ]
        },
        {
          "output_type": "stream",
          "name": "stderr",
          "text": [
            "DEBUG:autotvm:device available\n"
          ]
        },
        {
          "output_type": "stream",
          "name": "stdout",
          "text": [
            "Get devices for measurement successfully!\n",
            "Get devices for measurement successfully!\n",
            "Get devices for measurement successfully!\n",
            "Get devices for measurement successfully!\n",
            "Get devices for measurement successfully!\n"
          ]
        },
        {
          "output_type": "stream",
          "name": "stderr",
          "text": [
            "INFO:autotvm:Get devices for measurement successfully!\n"
          ]
        },
        {
          "output_type": "stream",
          "name": "stdout",
          "text": [
            "No: 1\tGFLOPS: 8.70/8.70\tresult: MeasureResult(costs=(0.0308601128,), error_no=MeasureErrorNo.NO_ERROR, all_cost=1.0401132106781006, timestamp=1726491179.2314863)\t[('tile_y', [-1, 256]), ('tile_x', [-1, 128])],None,78\n",
            "No: 1\tGFLOPS: 8.70/8.70\tresult: MeasureResult(costs=(0.0308601128,), error_no=MeasureErrorNo.NO_ERROR, all_cost=1.0401132106781006, timestamp=1726491179.2314863)\t[('tile_y', [-1, 256]), ('tile_x', [-1, 128])],None,78\n",
            "No: 1\tGFLOPS: 8.70/8.70\tresult: MeasureResult(costs=(0.0308601128,), error_no=MeasureErrorNo.NO_ERROR, all_cost=1.0401132106781006, timestamp=1726491179.2314863)\t[('tile_y', [-1, 256]), ('tile_x', [-1, 128])],None,78\n",
            "No: 1\tGFLOPS: 8.70/8.70\tresult: MeasureResult(costs=(0.0308601128,), error_no=MeasureErrorNo.NO_ERROR, all_cost=1.0401132106781006, timestamp=1726491179.2314863)\t[('tile_y', [-1, 256]), ('tile_x', [-1, 128])],None,78\n",
            "No: 1\tGFLOPS: 8.70/8.70\tresult: MeasureResult(costs=(0.0308601128,), error_no=MeasureErrorNo.NO_ERROR, all_cost=1.0401132106781006, timestamp=1726491179.2314863)\t[('tile_y', [-1, 256]), ('tile_x', [-1, 128])],None,78\n"
          ]
        },
        {
          "output_type": "stream",
          "name": "stderr",
          "text": [
            "DEBUG:autotvm:No: 1\tGFLOPS: 8.70/8.70\tresult: MeasureResult(costs=(0.0308601128,), error_no=MeasureErrorNo.NO_ERROR, all_cost=1.0401132106781006, timestamp=1726491179.2314863)\t[('tile_y', [-1, 256]), ('tile_x', [-1, 128])],None,78\n"
          ]
        },
        {
          "output_type": "stream",
          "name": "stdout",
          "text": [
            "No: 2\tGFLOPS: 7.81/8.70\tresult: MeasureResult(costs=(0.0343577214,), error_no=MeasureErrorNo.NO_ERROR, all_cost=0.9211416244506836, timestamp=1726491180.03792)\t[('tile_y', [-1, 4]), ('tile_x', [-1, 64])],None,62\n",
            "No: 2\tGFLOPS: 7.81/8.70\tresult: MeasureResult(costs=(0.0343577214,), error_no=MeasureErrorNo.NO_ERROR, all_cost=0.9211416244506836, timestamp=1726491180.03792)\t[('tile_y', [-1, 4]), ('tile_x', [-1, 64])],None,62\n",
            "No: 2\tGFLOPS: 7.81/8.70\tresult: MeasureResult(costs=(0.0343577214,), error_no=MeasureErrorNo.NO_ERROR, all_cost=0.9211416244506836, timestamp=1726491180.03792)\t[('tile_y', [-1, 4]), ('tile_x', [-1, 64])],None,62\n",
            "No: 2\tGFLOPS: 7.81/8.70\tresult: MeasureResult(costs=(0.0343577214,), error_no=MeasureErrorNo.NO_ERROR, all_cost=0.9211416244506836, timestamp=1726491180.03792)\t[('tile_y', [-1, 4]), ('tile_x', [-1, 64])],None,62\n",
            "No: 2\tGFLOPS: 7.81/8.70\tresult: MeasureResult(costs=(0.0343577214,), error_no=MeasureErrorNo.NO_ERROR, all_cost=0.9211416244506836, timestamp=1726491180.03792)\t[('tile_y', [-1, 4]), ('tile_x', [-1, 64])],None,62\n"
          ]
        },
        {
          "output_type": "stream",
          "name": "stderr",
          "text": [
            "DEBUG:autotvm:No: 2\tGFLOPS: 7.81/8.70\tresult: MeasureResult(costs=(0.0343577214,), error_no=MeasureErrorNo.NO_ERROR, all_cost=0.9211416244506836, timestamp=1726491180.03792)\t[('tile_y', [-1, 4]), ('tile_x', [-1, 64])],None,62\n"
          ]
        },
        {
          "output_type": "stream",
          "name": "stdout",
          "text": [
            "No: 3\tGFLOPS: 1.47/8.70\tresult: MeasureResult(costs=(0.18276270420000001,), error_no=MeasureErrorNo.NO_ERROR, all_cost=3.236276388168335, timestamp=1726491183.4421086)\t[('tile_y', [-1, 64]), ('tile_x', [-1, 4])],None,26\n",
            "No: 3\tGFLOPS: 1.47/8.70\tresult: MeasureResult(costs=(0.18276270420000001,), error_no=MeasureErrorNo.NO_ERROR, all_cost=3.236276388168335, timestamp=1726491183.4421086)\t[('tile_y', [-1, 64]), ('tile_x', [-1, 4])],None,26\n",
            "No: 3\tGFLOPS: 1.47/8.70\tresult: MeasureResult(costs=(0.18276270420000001,), error_no=MeasureErrorNo.NO_ERROR, all_cost=3.236276388168335, timestamp=1726491183.4421086)\t[('tile_y', [-1, 64]), ('tile_x', [-1, 4])],None,26\n",
            "No: 3\tGFLOPS: 1.47/8.70\tresult: MeasureResult(costs=(0.18276270420000001,), error_no=MeasureErrorNo.NO_ERROR, all_cost=3.236276388168335, timestamp=1726491183.4421086)\t[('tile_y', [-1, 64]), ('tile_x', [-1, 4])],None,26\n",
            "No: 3\tGFLOPS: 1.47/8.70\tresult: MeasureResult(costs=(0.18276270420000001,), error_no=MeasureErrorNo.NO_ERROR, all_cost=3.236276388168335, timestamp=1726491183.4421086)\t[('tile_y', [-1, 64]), ('tile_x', [-1, 4])],None,26\n"
          ]
        },
        {
          "output_type": "stream",
          "name": "stderr",
          "text": [
            "DEBUG:autotvm:No: 3\tGFLOPS: 1.47/8.70\tresult: MeasureResult(costs=(0.18276270420000001,), error_no=MeasureErrorNo.NO_ERROR, all_cost=3.236276388168335, timestamp=1726491183.4421086)\t[('tile_y', [-1, 64]), ('tile_x', [-1, 4])],None,26\n"
          ]
        },
        {
          "output_type": "stream",
          "name": "stdout",
          "text": [
            "No: 4\tGFLOPS: 1.90/8.70\tresult: MeasureResult(costs=(0.1415868136,), error_no=MeasureErrorNo.NO_ERROR, all_cost=2.5538601875305176, timestamp=1726491185.9068668)\t[('tile_y', [-1, 128]), ('tile_x', [-1, 16])],None,47\n",
            "No: 4\tGFLOPS: 1.90/8.70\tresult: MeasureResult(costs=(0.1415868136,), error_no=MeasureErrorNo.NO_ERROR, all_cost=2.5538601875305176, timestamp=1726491185.9068668)\t[('tile_y', [-1, 128]), ('tile_x', [-1, 16])],None,47\n",
            "No: 4\tGFLOPS: 1.90/8.70\tresult: MeasureResult(costs=(0.1415868136,), error_no=MeasureErrorNo.NO_ERROR, all_cost=2.5538601875305176, timestamp=1726491185.9068668)\t[('tile_y', [-1, 128]), ('tile_x', [-1, 16])],None,47\n",
            "No: 4\tGFLOPS: 1.90/8.70\tresult: MeasureResult(costs=(0.1415868136,), error_no=MeasureErrorNo.NO_ERROR, all_cost=2.5538601875305176, timestamp=1726491185.9068668)\t[('tile_y', [-1, 128]), ('tile_x', [-1, 16])],None,47\n",
            "No: 4\tGFLOPS: 1.90/8.70\tresult: MeasureResult(costs=(0.1415868136,), error_no=MeasureErrorNo.NO_ERROR, all_cost=2.5538601875305176, timestamp=1726491185.9068668)\t[('tile_y', [-1, 128]), ('tile_x', [-1, 16])],None,47\n"
          ]
        },
        {
          "output_type": "stream",
          "name": "stderr",
          "text": [
            "DEBUG:autotvm:No: 4\tGFLOPS: 1.90/8.70\tresult: MeasureResult(costs=(0.1415868136,), error_no=MeasureErrorNo.NO_ERROR, all_cost=2.5538601875305176, timestamp=1726491185.9068668)\t[('tile_y', [-1, 128]), ('tile_x', [-1, 16])],None,47\n"
          ]
        },
        {
          "output_type": "stream",
          "name": "stdout",
          "text": [
            "No: 5\tGFLOPS: 0.76/8.70\tresult: MeasureResult(costs=(0.35474130919999997,), error_no=MeasureErrorNo.NO_ERROR, all_cost=5.979657411575317, timestamp=1726491192.032195)\t[('tile_y', [-1, 128]), ('tile_x', [-1, 2])],None,17\n",
            "No: 5\tGFLOPS: 0.76/8.70\tresult: MeasureResult(costs=(0.35474130919999997,), error_no=MeasureErrorNo.NO_ERROR, all_cost=5.979657411575317, timestamp=1726491192.032195)\t[('tile_y', [-1, 128]), ('tile_x', [-1, 2])],None,17\n",
            "No: 5\tGFLOPS: 0.76/8.70\tresult: MeasureResult(costs=(0.35474130919999997,), error_no=MeasureErrorNo.NO_ERROR, all_cost=5.979657411575317, timestamp=1726491192.032195)\t[('tile_y', [-1, 128]), ('tile_x', [-1, 2])],None,17\n",
            "No: 5\tGFLOPS: 0.76/8.70\tresult: MeasureResult(costs=(0.35474130919999997,), error_no=MeasureErrorNo.NO_ERROR, all_cost=5.979657411575317, timestamp=1726491192.032195)\t[('tile_y', [-1, 128]), ('tile_x', [-1, 2])],None,17\n",
            "No: 5\tGFLOPS: 0.76/8.70\tresult: MeasureResult(costs=(0.35474130919999997,), error_no=MeasureErrorNo.NO_ERROR, all_cost=5.979657411575317, timestamp=1726491192.032195)\t[('tile_y', [-1, 128]), ('tile_x', [-1, 2])],None,17\n"
          ]
        },
        {
          "output_type": "stream",
          "name": "stderr",
          "text": [
            "DEBUG:autotvm:No: 5\tGFLOPS: 0.76/8.70\tresult: MeasureResult(costs=(0.35474130919999997,), error_no=MeasureErrorNo.NO_ERROR, all_cost=5.979657411575317, timestamp=1726491192.032195)\t[('tile_y', [-1, 128]), ('tile_x', [-1, 2])],None,17\n"
          ]
        },
        {
          "output_type": "stream",
          "name": "stdout",
          "text": [
            "No: 6\tGFLOPS: 1.22/8.70\tresult: MeasureResult(costs=(0.2195190714,), error_no=MeasureErrorNo.NO_ERROR, all_cost=3.904259443283081, timestamp=1726491195.9349315)\t[('tile_y', [-1, 1]), ('tile_x', [-1, 1])],None,0\n",
            "No: 6\tGFLOPS: 1.22/8.70\tresult: MeasureResult(costs=(0.2195190714,), error_no=MeasureErrorNo.NO_ERROR, all_cost=3.904259443283081, timestamp=1726491195.9349315)\t[('tile_y', [-1, 1]), ('tile_x', [-1, 1])],None,0\n",
            "No: 6\tGFLOPS: 1.22/8.70\tresult: MeasureResult(costs=(0.2195190714,), error_no=MeasureErrorNo.NO_ERROR, all_cost=3.904259443283081, timestamp=1726491195.9349315)\t[('tile_y', [-1, 1]), ('tile_x', [-1, 1])],None,0\n",
            "No: 6\tGFLOPS: 1.22/8.70\tresult: MeasureResult(costs=(0.2195190714,), error_no=MeasureErrorNo.NO_ERROR, all_cost=3.904259443283081, timestamp=1726491195.9349315)\t[('tile_y', [-1, 1]), ('tile_x', [-1, 1])],None,0\n",
            "No: 6\tGFLOPS: 1.22/8.70\tresult: MeasureResult(costs=(0.2195190714,), error_no=MeasureErrorNo.NO_ERROR, all_cost=3.904259443283081, timestamp=1726491195.9349315)\t[('tile_y', [-1, 1]), ('tile_x', [-1, 1])],None,0\n"
          ]
        },
        {
          "output_type": "stream",
          "name": "stderr",
          "text": [
            "DEBUG:autotvm:No: 6\tGFLOPS: 1.22/8.70\tresult: MeasureResult(costs=(0.2195190714,), error_no=MeasureErrorNo.NO_ERROR, all_cost=3.904259443283081, timestamp=1726491195.9349315)\t[('tile_y', [-1, 1]), ('tile_x', [-1, 1])],None,0\n"
          ]
        },
        {
          "output_type": "stream",
          "name": "stdout",
          "text": [
            "No: 7\tGFLOPS: 1.33/8.70\tresult: MeasureResult(costs=(0.2023755022,), error_no=MeasureErrorNo.NO_ERROR, all_cost=3.456690788269043, timestamp=1726491199.607216)\t[('tile_y', [-1, 16]), ('tile_x', [-1, 4])],None,24\n",
            "No: 7\tGFLOPS: 1.33/8.70\tresult: MeasureResult(costs=(0.2023755022,), error_no=MeasureErrorNo.NO_ERROR, all_cost=3.456690788269043, timestamp=1726491199.607216)\t[('tile_y', [-1, 16]), ('tile_x', [-1, 4])],None,24\n",
            "No: 7\tGFLOPS: 1.33/8.70\tresult: MeasureResult(costs=(0.2023755022,), error_no=MeasureErrorNo.NO_ERROR, all_cost=3.456690788269043, timestamp=1726491199.607216)\t[('tile_y', [-1, 16]), ('tile_x', [-1, 4])],None,24\n",
            "No: 7\tGFLOPS: 1.33/8.70\tresult: MeasureResult(costs=(0.2023755022,), error_no=MeasureErrorNo.NO_ERROR, all_cost=3.456690788269043, timestamp=1726491199.607216)\t[('tile_y', [-1, 16]), ('tile_x', [-1, 4])],None,24\n",
            "No: 7\tGFLOPS: 1.33/8.70\tresult: MeasureResult(costs=(0.2023755022,), error_no=MeasureErrorNo.NO_ERROR, all_cost=3.456690788269043, timestamp=1726491199.607216)\t[('tile_y', [-1, 16]), ('tile_x', [-1, 4])],None,24\n"
          ]
        },
        {
          "output_type": "stream",
          "name": "stderr",
          "text": [
            "DEBUG:autotvm:No: 7\tGFLOPS: 1.33/8.70\tresult: MeasureResult(costs=(0.2023755022,), error_no=MeasureErrorNo.NO_ERROR, all_cost=3.456690788269043, timestamp=1726491199.607216)\t[('tile_y', [-1, 16]), ('tile_x', [-1, 4])],None,24\n"
          ]
        },
        {
          "output_type": "stream",
          "name": "stdout",
          "text": [
            "No: 8\tGFLOPS: 2.93/8.70\tresult: MeasureResult(costs=(0.09154923940000001,), error_no=MeasureErrorNo.NO_ERROR, all_cost=1.8819167613983154, timestamp=1726491201.3316388)\t[('tile_y', [-1, 256]), ('tile_x', [-1, 16])],None,48\n",
            "No: 8\tGFLOPS: 2.93/8.70\tresult: MeasureResult(costs=(0.09154923940000001,), error_no=MeasureErrorNo.NO_ERROR, all_cost=1.8819167613983154, timestamp=1726491201.3316388)\t[('tile_y', [-1, 256]), ('tile_x', [-1, 16])],None,48\n",
            "No: 8\tGFLOPS: 2.93/8.70\tresult: MeasureResult(costs=(0.09154923940000001,), error_no=MeasureErrorNo.NO_ERROR, all_cost=1.8819167613983154, timestamp=1726491201.3316388)\t[('tile_y', [-1, 256]), ('tile_x', [-1, 16])],None,48\n",
            "No: 8\tGFLOPS: 2.93/8.70\tresult: MeasureResult(costs=(0.09154923940000001,), error_no=MeasureErrorNo.NO_ERROR, all_cost=1.8819167613983154, timestamp=1726491201.3316388)\t[('tile_y', [-1, 256]), ('tile_x', [-1, 16])],None,48\n",
            "No: 8\tGFLOPS: 2.93/8.70\tresult: MeasureResult(costs=(0.09154923940000001,), error_no=MeasureErrorNo.NO_ERROR, all_cost=1.8819167613983154, timestamp=1726491201.3316388)\t[('tile_y', [-1, 256]), ('tile_x', [-1, 16])],None,48\n"
          ]
        },
        {
          "output_type": "stream",
          "name": "stderr",
          "text": [
            "DEBUG:autotvm:No: 8\tGFLOPS: 2.93/8.70\tresult: MeasureResult(costs=(0.09154923940000001,), error_no=MeasureErrorNo.NO_ERROR, all_cost=1.8819167613983154, timestamp=1726491201.3316388)\t[('tile_y', [-1, 256]), ('tile_x', [-1, 16])],None,48\n"
          ]
        },
        {
          "output_type": "stream",
          "name": "stdout",
          "text": [
            "No: 9\tGFLOPS: 5.53/8.70\tresult: MeasureResult(costs=(0.0485434814,), error_no=MeasureErrorNo.NO_ERROR, all_cost=1.191511631011963, timestamp=1726491202.6620157)\t[('tile_y', [-1, 512]), ('tile_x', [-1, 128])],None,79\n",
            "No: 9\tGFLOPS: 5.53/8.70\tresult: MeasureResult(costs=(0.0485434814,), error_no=MeasureErrorNo.NO_ERROR, all_cost=1.191511631011963, timestamp=1726491202.6620157)\t[('tile_y', [-1, 512]), ('tile_x', [-1, 128])],None,79\n",
            "No: 9\tGFLOPS: 5.53/8.70\tresult: MeasureResult(costs=(0.0485434814,), error_no=MeasureErrorNo.NO_ERROR, all_cost=1.191511631011963, timestamp=1726491202.6620157)\t[('tile_y', [-1, 512]), ('tile_x', [-1, 128])],None,79\n",
            "No: 9\tGFLOPS: 5.53/8.70\tresult: MeasureResult(costs=(0.0485434814,), error_no=MeasureErrorNo.NO_ERROR, all_cost=1.191511631011963, timestamp=1726491202.6620157)\t[('tile_y', [-1, 512]), ('tile_x', [-1, 128])],None,79\n",
            "No: 9\tGFLOPS: 5.53/8.70\tresult: MeasureResult(costs=(0.0485434814,), error_no=MeasureErrorNo.NO_ERROR, all_cost=1.191511631011963, timestamp=1726491202.6620157)\t[('tile_y', [-1, 512]), ('tile_x', [-1, 128])],None,79\n"
          ]
        },
        {
          "output_type": "stream",
          "name": "stderr",
          "text": [
            "DEBUG:autotvm:No: 9\tGFLOPS: 5.53/8.70\tresult: MeasureResult(costs=(0.0485434814,), error_no=MeasureErrorNo.NO_ERROR, all_cost=1.191511631011963, timestamp=1726491202.6620157)\t[('tile_y', [-1, 512]), ('tile_x', [-1, 128])],None,79\n"
          ]
        },
        {
          "output_type": "stream",
          "name": "stdout",
          "text": [
            "No: 10\tGFLOPS: 1.90/8.70\tresult: MeasureResult(costs=(0.14120382839999998,), error_no=MeasureErrorNo.NO_ERROR, all_cost=2.575852870941162, timestamp=1726491205.1535156)\t[('tile_y', [-1, 512]), ('tile_x', [-1, 16])],None,49\n",
            "No: 10\tGFLOPS: 1.90/8.70\tresult: MeasureResult(costs=(0.14120382839999998,), error_no=MeasureErrorNo.NO_ERROR, all_cost=2.575852870941162, timestamp=1726491205.1535156)\t[('tile_y', [-1, 512]), ('tile_x', [-1, 16])],None,49\n",
            "No: 10\tGFLOPS: 1.90/8.70\tresult: MeasureResult(costs=(0.14120382839999998,), error_no=MeasureErrorNo.NO_ERROR, all_cost=2.575852870941162, timestamp=1726491205.1535156)\t[('tile_y', [-1, 512]), ('tile_x', [-1, 16])],None,49\n",
            "No: 10\tGFLOPS: 1.90/8.70\tresult: MeasureResult(costs=(0.14120382839999998,), error_no=MeasureErrorNo.NO_ERROR, all_cost=2.575852870941162, timestamp=1726491205.1535156)\t[('tile_y', [-1, 512]), ('tile_x', [-1, 16])],None,49\n",
            "No: 10\tGFLOPS: 1.90/8.70\tresult: MeasureResult(costs=(0.14120382839999998,), error_no=MeasureErrorNo.NO_ERROR, all_cost=2.575852870941162, timestamp=1726491205.1535156)\t[('tile_y', [-1, 512]), ('tile_x', [-1, 16])],None,49\n"
          ]
        },
        {
          "output_type": "stream",
          "name": "stderr",
          "text": [
            "DEBUG:autotvm:No: 10\tGFLOPS: 1.90/8.70\tresult: MeasureResult(costs=(0.14120382839999998,), error_no=MeasureErrorNo.NO_ERROR, all_cost=2.575852870941162, timestamp=1726491205.1535156)\t[('tile_y', [-1, 512]), ('tile_x', [-1, 16])],None,49\n"
          ]
        }
      ]
    },
    {
      "cell_type": "code",
      "source": [
        "# apply history best from log file\n",
        "with autotvm.apply_history_best(\"matmul.log\"):\n",
        "    with tvm.target.Target(\"llvm\"):\n",
        "        s, arg_bufs = matmul(N, L, M, \"float32\")\n",
        "        func = tvm.build(s, arg_bufs)\n",
        "\n",
        "# check correctness\n",
        "a_np = np.random.uniform(size=(N, L)).astype(np.float32)\n",
        "b_np = np.random.uniform(size=(L, M)).astype(np.float32)\n",
        "c_np = a_np.dot(b_np)\n",
        "\n",
        "c_tvm = tvm.nd.empty(c_np.shape)\n",
        "func(tvm.nd.array(a_np), tvm.nd.array(b_np), c_tvm)\n",
        "\n",
        "tvm.testing.assert_allclose(c_np, c_tvm.numpy(), rtol=1e-4)"
      ],
      "metadata": {
        "colab": {
          "base_uri": "https://localhost:8080/"
        },
        "id": "WQjhiWX7zcId",
        "outputId": "25a20306-97d7-4c92-84ac-6129d94771e3"
      },
      "execution_count": 43,
      "outputs": [
        {
          "output_type": "stream",
          "name": "stdout",
          "text": [
            "Finish loading 65 records\n",
            "Finish loading 65 records\n",
            "Finish loading 65 records\n",
            "Finish loading 65 records\n",
            "Finish loading 65 records\n"
          ]
        },
        {
          "output_type": "stream",
          "name": "stderr",
          "text": [
            "DEBUG:autotvm:Finish loading 65 records\n"
          ]
        }
      ]
    }
  ]
}